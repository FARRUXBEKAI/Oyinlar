{
 "cells": [
  {
   "cell_type": "markdown",
   "id": "dd286fac",
   "metadata": {},
   "source": [
    "# 20/02/2022\n",
    "\n",
    "# Python asoslari\n",
    "\n",
    "# Mavzu: 'Brain up' o'yinini yasash\n",
    "\n",
    "# Muallif: Farrux Sotivoldiyev\n"
   ]
  },
  {
   "cell_type": "code",
   "execution_count": 1,
   "id": "5cf50d31",
   "metadata": {},
   "outputs": [
    {
     "name": "stdout",
     "output_type": "stream",
     "text": [
      "Assalomu alaykum 'Brain up' o'yinimizga xush kelibsiz\n",
      "O'yin shartlari:\n",
      "1.10 ta misol beriladi\n",
      "2.Har bir savol uchun 10 sekund vaqt \n",
      "O'yinni boshlash uchun hohlagan tugmangizni bosing\n",
      "1 - savol\n",
      "7 * 5 - 28 / 4 + 8\n",
      ">>> 5\n",
      "2 - savol\n",
      "3 * 2 - 44 / 2 + 8\n",
      ">>> 5\n",
      "3 - savol\n",
      "9 * 7 - 12 / 2 + 9\n",
      ">>> 5\n",
      "4 - savol\n",
      "6 * 6 - 4 / 2 + 10\n",
      ">>> 44\n",
      "5 - savol\n",
      "1 * 8 - 36 / 2 + 6\n",
      ">>> -4\n",
      "6 - savol\n",
      "4 * 8 - 40 / 2 + 8\n",
      ">>> 20\n",
      "7 - savol\n",
      "4 * 2 - 44 / 2 + 8\n",
      ">>> 55\n",
      "8 - savol\n",
      "6 * 5 - 20 / 2 + 4\n",
      ">>> 24\n",
      "9 - savol\n",
      "3 * 7 - 4 / 4 + 9\n",
      ">>> 31\n",
      "10 - savol\n",
      "1 * 2 - 8 / 4 + 9\n",
      ">>> 9\n",
      "1-savol: Xato 😔 vaqt = 8 sekund\n",
      "2-savol: Xato 😔 vaqt = 1 sekund\n",
      "3-savol: Xato 😔 vaqt = 2 sekund\n",
      "4-savol: To'g'ri 😊 vaqt = 5 sekund\n",
      "5-savol: To'g'ri 😊 vaqt = 7 sekund\n",
      "6-savol: To'g'ri 😊 vaqt = 7 sekund\n",
      "7-savol: Xato 😔 vaqt = 6 sekund\n",
      "8-savol: To'g'ri 😊 vaqt = 5 sekund\n",
      "9-savol: Xato 😔 vaqt = 5 sekund\n",
      "10-savol: To'g'ri 😊 vaqt = 4 sekund\n",
      "Ko'rsatgich: 50 %\n",
      "Yana o'ynaysizmi? ha/yoq >>>yoq\n",
      "O'yin tugadi😊\n"
     ]
    }
   ],
   "source": [
    "from time import time\n",
    "from random import randint,randrange\n",
    "print(\"Assalomu alaykum 'Brain up' o'yinimizga xush kelibsiz\")\n",
    "print(\"\"\"O'yin shartlari:\n",
    "1.10 ta misol beriladi\n",
    "2.Har bir savol uchun 10 sekund vaqt \"\"\")\n",
    "input(\"O'yinni boshlash uchun hohlagan tugmangizni bosing\")\n",
    "while True:\n",
    "    javoblar = []\n",
    "    korsatgich = 0\n",
    "    for k in range(1, 11):\n",
    "        son1 = randint(1,10)\n",
    "        son2 = randint(2,8)\n",
    "        son3 = randrange(4,50,4)\n",
    "        son4 = randrange(2,5,2)\n",
    "        son5 = randint(4,10)\n",
    "\n",
    "        t1 = time()\n",
    "        javob = float(input(f\"{k} - savol\\n{son1} * {son2} - {son3} / {son4} + {son5}\\n>>> \"))\n",
    "        t2 = time()\n",
    "        t = t2 - t1\n",
    "\n",
    "        if javob == son1 * son2 - son3 / son4 + son5 and t <= 10:\n",
    "            natija = \"To'g'ri 😊\"\n",
    "            korsatgich += 1\n",
    "        else:\n",
    "            natija = \"Xato 😔\"\n",
    "        javoblar.append(f\"{k}-savol: {natija} vaqt = {round(t)} sekund\")\n",
    "    \n",
    "    for javob in javoblar:\n",
    "        print(javob)\n",
    "    \n",
    "    print(f\"Ko'rsatgich: {korsatgich*10} %\")\n",
    "    \n",
    "    savol = input(\"Yana o'ynaysizmi? ha/yoq >>>\")\n",
    "    if savol == 'yoq':\n",
    "        print(\"O'yin tugadi😊\")\n",
    "        break"
   ]
  },
  {
   "cell_type": "code",
   "execution_count": null,
   "id": "e1c6c0a7",
   "metadata": {},
   "outputs": [],
   "source": []
  }
 ],
 "metadata": {
  "kernelspec": {
   "display_name": "Python 3 (ipykernel)",
   "language": "python",
   "name": "python3"
  },
  "language_info": {
   "codemirror_mode": {
    "name": "ipython",
    "version": 3
   },
   "file_extension": ".py",
   "mimetype": "text/x-python",
   "name": "python",
   "nbconvert_exporter": "python",
   "pygments_lexer": "ipython3",
   "version": "3.10.2"
  }
 },
 "nbformat": 4,
 "nbformat_minor": 5
}
